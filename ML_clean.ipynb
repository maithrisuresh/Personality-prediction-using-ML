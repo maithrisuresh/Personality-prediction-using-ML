{
 "cells": [
  {
   "cell_type": "code",
   "execution_count": 1,
   "metadata": {},
   "outputs": [],
   "source": [
    "import numpy as np\n",
    "import pandas as pd\n",
    "import os\n",
    "import seaborn as sns\n",
    "import matplotlib.pyplot as plt"
   ]
  },
  {
   "cell_type": "code",
   "execution_count": 2,
   "metadata": {},
   "outputs": [],
   "source": [
    "dataset=pd.read_csv('mbti_1.csv')"
   ]
  },
  {
   "cell_type": "code",
   "execution_count": 3,
   "metadata": {},
   "outputs": [
    {
     "data": {
      "text/html": [
       "<div>\n",
       "<style scoped>\n",
       "    .dataframe tbody tr th:only-of-type {\n",
       "        vertical-align: middle;\n",
       "    }\n",
       "\n",
       "    .dataframe tbody tr th {\n",
       "        vertical-align: top;\n",
       "    }\n",
       "\n",
       "    .dataframe thead th {\n",
       "        text-align: right;\n",
       "    }\n",
       "</style>\n",
       "<table border=\"1\" class=\"dataframe\">\n",
       "  <thead>\n",
       "    <tr style=\"text-align: right;\">\n",
       "      <th></th>\n",
       "      <th>type</th>\n",
       "      <th>posts</th>\n",
       "    </tr>\n",
       "  </thead>\n",
       "  <tbody>\n",
       "    <tr>\n",
       "      <th>0</th>\n",
       "      <td>INFJ</td>\n",
       "      <td>'http://www.youtube.com/watch?v=qsXHcwe3krw|||...</td>\n",
       "    </tr>\n",
       "    <tr>\n",
       "      <th>1</th>\n",
       "      <td>ENTP</td>\n",
       "      <td>'I'm finding the lack of me in these posts ver...</td>\n",
       "    </tr>\n",
       "    <tr>\n",
       "      <th>2</th>\n",
       "      <td>INTP</td>\n",
       "      <td>'Good one  _____   https://www.youtube.com/wat...</td>\n",
       "    </tr>\n",
       "    <tr>\n",
       "      <th>3</th>\n",
       "      <td>INTJ</td>\n",
       "      <td>'Dear INTP,   I enjoyed our conversation the o...</td>\n",
       "    </tr>\n",
       "    <tr>\n",
       "      <th>4</th>\n",
       "      <td>ENTJ</td>\n",
       "      <td>'You're fired.|||That's another silly misconce...</td>\n",
       "    </tr>\n",
       "    <tr>\n",
       "      <th>5</th>\n",
       "      <td>INTJ</td>\n",
       "      <td>'18/37 @.@|||Science  is not perfect. No scien...</td>\n",
       "    </tr>\n",
       "    <tr>\n",
       "      <th>6</th>\n",
       "      <td>INFJ</td>\n",
       "      <td>'No, I can't draw on my own nails (haha). Thos...</td>\n",
       "    </tr>\n",
       "    <tr>\n",
       "      <th>7</th>\n",
       "      <td>INTJ</td>\n",
       "      <td>'I tend to build up a collection of things on ...</td>\n",
       "    </tr>\n",
       "    <tr>\n",
       "      <th>8</th>\n",
       "      <td>INFJ</td>\n",
       "      <td>I'm not sure, that's a good question. The dist...</td>\n",
       "    </tr>\n",
       "    <tr>\n",
       "      <th>9</th>\n",
       "      <td>INTP</td>\n",
       "      <td>'https://www.youtube.com/watch?v=w8-egj0y8Qs||...</td>\n",
       "    </tr>\n",
       "    <tr>\n",
       "      <th>10</th>\n",
       "      <td>INFJ</td>\n",
       "      <td>'One time my parents were fighting over my dad...</td>\n",
       "    </tr>\n",
       "    <tr>\n",
       "      <th>11</th>\n",
       "      <td>ENFJ</td>\n",
       "      <td>'https://www.youtube.com/watch?v=PLAaiKvHvZs||...</td>\n",
       "    </tr>\n",
       "    <tr>\n",
       "      <th>12</th>\n",
       "      <td>INFJ</td>\n",
       "      <td>'Joe santagato - ENTP|||ENFJ or  ENTP?   I'm n...</td>\n",
       "    </tr>\n",
       "    <tr>\n",
       "      <th>13</th>\n",
       "      <td>INTJ</td>\n",
       "      <td>'Fair enough, if that's how you want to look a...</td>\n",
       "    </tr>\n",
       "    <tr>\n",
       "      <th>14</th>\n",
       "      <td>INTP</td>\n",
       "      <td>'Basically this...  https://youtu.be/1pH5c1Jkh...</td>\n",
       "    </tr>\n",
       "    <tr>\n",
       "      <th>15</th>\n",
       "      <td>INTP</td>\n",
       "      <td>'Your comment screams INTJ, bro. Especially th...</td>\n",
       "    </tr>\n",
       "    <tr>\n",
       "      <th>16</th>\n",
       "      <td>INFJ</td>\n",
       "      <td>'some of these both excite and calm me:  BUTTS...</td>\n",
       "    </tr>\n",
       "    <tr>\n",
       "      <th>17</th>\n",
       "      <td>INFP</td>\n",
       "      <td>'I think we do agree. I personally don't consi...</td>\n",
       "    </tr>\n",
       "    <tr>\n",
       "      <th>18</th>\n",
       "      <td>INFJ</td>\n",
       "      <td>'I fully believe in the power of being a prote...</td>\n",
       "    </tr>\n",
       "    <tr>\n",
       "      <th>19</th>\n",
       "      <td>INFP</td>\n",
       "      <td>'That's normal, it happens also to me. If I am...</td>\n",
       "    </tr>\n",
       "  </tbody>\n",
       "</table>\n",
       "</div>"
      ],
      "text/plain": [
       "    type                                              posts\n",
       "0   INFJ  'http://www.youtube.com/watch?v=qsXHcwe3krw|||...\n",
       "1   ENTP  'I'm finding the lack of me in these posts ver...\n",
       "2   INTP  'Good one  _____   https://www.youtube.com/wat...\n",
       "3   INTJ  'Dear INTP,   I enjoyed our conversation the o...\n",
       "4   ENTJ  'You're fired.|||That's another silly misconce...\n",
       "5   INTJ  '18/37 @.@|||Science  is not perfect. No scien...\n",
       "6   INFJ  'No, I can't draw on my own nails (haha). Thos...\n",
       "7   INTJ  'I tend to build up a collection of things on ...\n",
       "8   INFJ  I'm not sure, that's a good question. The dist...\n",
       "9   INTP  'https://www.youtube.com/watch?v=w8-egj0y8Qs||...\n",
       "10  INFJ  'One time my parents were fighting over my dad...\n",
       "11  ENFJ  'https://www.youtube.com/watch?v=PLAaiKvHvZs||...\n",
       "12  INFJ  'Joe santagato - ENTP|||ENFJ or  ENTP?   I'm n...\n",
       "13  INTJ  'Fair enough, if that's how you want to look a...\n",
       "14  INTP  'Basically this...  https://youtu.be/1pH5c1Jkh...\n",
       "15  INTP  'Your comment screams INTJ, bro. Especially th...\n",
       "16  INFJ  'some of these both excite and calm me:  BUTTS...\n",
       "17  INFP  'I think we do agree. I personally don't consi...\n",
       "18  INFJ  'I fully believe in the power of being a prote...\n",
       "19  INFP  'That's normal, it happens also to me. If I am..."
      ]
     },
     "execution_count": 3,
     "metadata": {},
     "output_type": "execute_result"
    }
   ],
   "source": [
    "dataset.head(20)"
   ]
  },
  {
   "cell_type": "code",
   "execution_count": 4,
   "metadata": {},
   "outputs": [
    {
     "name": "stdout",
     "output_type": "stream",
     "text": [
      "<class 'pandas.core.frame.DataFrame'>\n",
      "RangeIndex: 8675 entries, 0 to 8674\n",
      "Data columns (total 2 columns):\n",
      " #   Column  Non-Null Count  Dtype \n",
      "---  ------  --------------  ----- \n",
      " 0   type    8675 non-null   object\n",
      " 1   posts   8675 non-null   object\n",
      "dtypes: object(2)\n",
      "memory usage: 135.7+ KB\n"
     ]
    }
   ],
   "source": [
    "dataset.info()"
   ]
  },
  {
   "cell_type": "code",
   "execution_count": 5,
   "metadata": {},
   "outputs": [
    {
     "data": {
      "text/html": [
       "<div>\n",
       "<style scoped>\n",
       "    .dataframe tbody tr th:only-of-type {\n",
       "        vertical-align: middle;\n",
       "    }\n",
       "\n",
       "    .dataframe tbody tr th {\n",
       "        vertical-align: top;\n",
       "    }\n",
       "\n",
       "    .dataframe thead th {\n",
       "        text-align: right;\n",
       "    }\n",
       "</style>\n",
       "<table border=\"1\" class=\"dataframe\">\n",
       "  <thead>\n",
       "    <tr style=\"text-align: right;\">\n",
       "      <th></th>\n",
       "      <th>type</th>\n",
       "      <th>posts</th>\n",
       "    </tr>\n",
       "  </thead>\n",
       "  <tbody>\n",
       "    <tr>\n",
       "      <th>count</th>\n",
       "      <td>8675</td>\n",
       "      <td>8675</td>\n",
       "    </tr>\n",
       "    <tr>\n",
       "      <th>unique</th>\n",
       "      <td>16</td>\n",
       "      <td>8675</td>\n",
       "    </tr>\n",
       "    <tr>\n",
       "      <th>top</th>\n",
       "      <td>INFP</td>\n",
       "      <td>'INTP?? I don't know, I think he's hard to typ...</td>\n",
       "    </tr>\n",
       "    <tr>\n",
       "      <th>freq</th>\n",
       "      <td>1832</td>\n",
       "      <td>1</td>\n",
       "    </tr>\n",
       "  </tbody>\n",
       "</table>\n",
       "</div>"
      ],
      "text/plain": [
       "        type                                              posts\n",
       "count   8675                                               8675\n",
       "unique    16                                               8675\n",
       "top     INFP  'INTP?? I don't know, I think he's hard to typ...\n",
       "freq    1832                                                  1"
      ]
     },
     "execution_count": 5,
     "metadata": {},
     "output_type": "execute_result"
    }
   ],
   "source": [
    "dataset.describe()"
   ]
  },
  {
   "cell_type": "code",
   "execution_count": 6,
   "metadata": {},
   "outputs": [],
   "source": [
    "from sklearn.model_selection import train_test_split"
   ]
  },
  {
   "cell_type": "code",
   "execution_count": 7,
   "metadata": {},
   "outputs": [],
   "source": [
    "personality, rem = train_test_split( dataset, random_state=42, test_size=0.01, stratify=dataset[\"type\"])"
   ]
  },
  {
   "cell_type": "code",
   "execution_count": 8,
   "metadata": {},
   "outputs": [],
   "source": [
    "personality.to_csv(\"personal.csv\",index=False)"
   ]
  },
  {
   "cell_type": "code",
   "execution_count": 9,
   "metadata": {},
   "outputs": [],
   "source": [
    "rem.to_csv(\"rem.csv\",index=False)"
   ]
  },
  {
   "cell_type": "code",
   "execution_count": 10,
   "metadata": {},
   "outputs": [
    {
     "name": "stdout",
     "output_type": "stream",
     "text": [
      "INFP    1814\n",
      "INFJ    1455\n",
      "INTP    1291\n",
      "INTJ    1080\n",
      "ENTP     678\n",
      "ENFP     668\n",
      "ISTP     334\n",
      "ISFP     268\n",
      "ENTJ     229\n",
      "ISTJ     203\n",
      "ENFJ     188\n",
      "ISFJ     164\n",
      "ESTP      88\n",
      "ESFP      47\n",
      "ESFJ      42\n",
      "ESTJ      39\n",
      "Name: type, dtype: int64\n"
     ]
    }
   ],
   "source": [
    "print(personality[\"type\"].value_counts())"
   ]
  },
  {
   "cell_type": "code",
   "execution_count": 11,
   "metadata": {},
   "outputs": [
    {
     "name": "stdout",
     "output_type": "stream",
     "text": [
      "INFP    18\n",
      "INFJ    15\n",
      "INTP    13\n",
      "INTJ    11\n",
      "ENTP     7\n",
      "ENFP     7\n",
      "ISTP     3\n",
      "ISFP     3\n",
      "ISTJ     2\n",
      "ENTJ     2\n",
      "ENFJ     2\n",
      "ISFJ     2\n",
      "ESFP     1\n",
      "ESTP     1\n",
      "Name: type, dtype: int64\n"
     ]
    }
   ],
   "source": [
    "print(rem[\"type\"].value_counts())"
   ]
  },
  {
   "cell_type": "code",
   "execution_count": 12,
   "metadata": {},
   "outputs": [],
   "source": [
    "personality_test=pd.read_csv(\"personal.csv\")"
   ]
  },
  {
   "cell_type": "code",
   "execution_count": 13,
   "metadata": {},
   "outputs": [
    {
     "data": {
      "text/html": [
       "<div>\n",
       "<style scoped>\n",
       "    .dataframe tbody tr th:only-of-type {\n",
       "        vertical-align: middle;\n",
       "    }\n",
       "\n",
       "    .dataframe tbody tr th {\n",
       "        vertical-align: top;\n",
       "    }\n",
       "\n",
       "    .dataframe thead th {\n",
       "        text-align: right;\n",
       "    }\n",
       "</style>\n",
       "<table border=\"1\" class=\"dataframe\">\n",
       "  <thead>\n",
       "    <tr style=\"text-align: right;\">\n",
       "      <th></th>\n",
       "      <th>type</th>\n",
       "      <th>posts</th>\n",
       "    </tr>\n",
       "  </thead>\n",
       "  <tbody>\n",
       "    <tr>\n",
       "      <th>0</th>\n",
       "      <td>INFJ</td>\n",
       "      <td>'When asked of the things you wish you did ear...</td>\n",
       "    </tr>\n",
       "    <tr>\n",
       "      <th>1</th>\n",
       "      <td>INFJ</td>\n",
       "      <td>'I love both and they are equally important to...</td>\n",
       "    </tr>\n",
       "    <tr>\n",
       "      <th>2</th>\n",
       "      <td>INFJ</td>\n",
       "      <td>Really? You think implying that everyone who i...</td>\n",
       "    </tr>\n",
       "    <tr>\n",
       "      <th>3</th>\n",
       "      <td>ENFJ</td>\n",
       "      <td>'Love is a crazy thing.   Se is our best form ...</td>\n",
       "    </tr>\n",
       "    <tr>\n",
       "      <th>4</th>\n",
       "      <td>INTP</td>\n",
       "      <td>'I am a physics undergrad with a computation e...</td>\n",
       "    </tr>\n",
       "  </tbody>\n",
       "</table>\n",
       "</div>"
      ],
      "text/plain": [
       "   type                                              posts\n",
       "0  INFJ  'When asked of the things you wish you did ear...\n",
       "1  INFJ  'I love both and they are equally important to...\n",
       "2  INFJ  Really? You think implying that everyone who i...\n",
       "3  ENFJ  'Love is a crazy thing.   Se is our best form ...\n",
       "4  INTP  'I am a physics undergrad with a computation e..."
      ]
     },
     "execution_count": 13,
     "metadata": {},
     "output_type": "execute_result"
    }
   ],
   "source": [
    "personality_test.head()"
   ]
  },
  {
   "cell_type": "code",
   "execution_count": 14,
   "metadata": {},
   "outputs": [
    {
     "data": {
      "text/plain": [
       "(8588, 2)"
      ]
     },
     "execution_count": 14,
     "metadata": {},
     "output_type": "execute_result"
    }
   ],
   "source": [
    "personality_test.shape"
   ]
  },
  {
   "cell_type": "code",
   "execution_count": 15,
   "metadata": {},
   "outputs": [
    {
     "data": {
      "image/png": "[encoded data removed]",
      "text/plain": [
       "<Figure size 432x288 with 1 Axes>"
      ]
     },
     "metadata": {
      "needs_background": "light"
     },
     "output_type": "display_data"
    }
   ],
   "source": [
    "personality_test[\"type\"].value_counts().plot(kind=\"bar\",color=\"red\")\n",
    "plt.show()"
   ]
  },
  {
   "cell_type": "code",
   "execution_count": 16,
   "metadata": {},
   "outputs": [],
   "source": [
    "\n",
    "personality_test[\"Extrovert\"] = personality_test[\"type\"].apply(lambda x: 1 if x[0] == \"E\" else 0)\n",
    "personality_test[\"Sensing\"] = personality_test[\"type\"].apply(lambda x: 1 if x[1] == \"S\" else 0)\n",
    "personality_test[\"Thinking\"] = personality_test[\"type\"].apply(lambda x: 1 if x[2] == \"T\" else 0)\n",
    "personality_test[\"Judging\"] = personality_test[\"type\"].apply(lambda x: 1 if x[3] == \"J\" else 0)"
   ]
  },
  {
   "cell_type": "code",
   "execution_count": 17,
   "metadata": {},
   "outputs": [
    {
     "data": {
      "text/html": [
       "<div>\n",
       "<style scoped>\n",
       "    .dataframe tbody tr th:only-of-type {\n",
       "        vertical-align: middle;\n",
       "    }\n",
       "\n",
       "    .dataframe tbody tr th {\n",
       "        vertical-align: top;\n",
       "    }\n",
       "\n",
       "    .dataframe thead th {\n",
       "        text-align: right;\n",
       "    }\n",
       "</style>\n",
       "<table border=\"1\" class=\"dataframe\">\n",
       "  <thead>\n",
       "    <tr style=\"text-align: right;\">\n",
       "      <th></th>\n",
       "      <th>type</th>\n",
       "      <th>Extrovert</th>\n",
       "      <th>Sensing</th>\n",
       "      <th>Thinking</th>\n",
       "      <th>Judging</th>\n",
       "      <th>posts</th>\n",
       "    </tr>\n",
       "  </thead>\n",
       "  <tbody>\n",
       "    <tr>\n",
       "      <th>0</th>\n",
       "      <td>INFJ</td>\n",
       "      <td>0</td>\n",
       "      <td>0</td>\n",
       "      <td>0</td>\n",
       "      <td>1</td>\n",
       "      <td>'When asked of the things you wish you did ear...</td>\n",
       "    </tr>\n",
       "    <tr>\n",
       "      <th>1</th>\n",
       "      <td>INFJ</td>\n",
       "      <td>0</td>\n",
       "      <td>0</td>\n",
       "      <td>0</td>\n",
       "      <td>1</td>\n",
       "      <td>'I love both and they are equally important to...</td>\n",
       "    </tr>\n",
       "    <tr>\n",
       "      <th>2</th>\n",
       "      <td>INFJ</td>\n",
       "      <td>0</td>\n",
       "      <td>0</td>\n",
       "      <td>0</td>\n",
       "      <td>1</td>\n",
       "      <td>Really? You think implying that everyone who i...</td>\n",
       "    </tr>\n",
       "    <tr>\n",
       "      <th>3</th>\n",
       "      <td>ENFJ</td>\n",
       "      <td>1</td>\n",
       "      <td>0</td>\n",
       "      <td>0</td>\n",
       "      <td>1</td>\n",
       "      <td>'Love is a crazy thing.   Se is our best form ...</td>\n",
       "    </tr>\n",
       "    <tr>\n",
       "      <th>4</th>\n",
       "      <td>INTP</td>\n",
       "      <td>0</td>\n",
       "      <td>0</td>\n",
       "      <td>1</td>\n",
       "      <td>0</td>\n",
       "      <td>'I am a physics undergrad with a computation e...</td>\n",
       "    </tr>\n",
       "  </tbody>\n",
       "</table>\n",
       "</div>"
      ],
      "text/plain": [
       "   type  Extrovert  Sensing  Thinking  Judging  \\\n",
       "0  INFJ          0        0         0        1   \n",
       "1  INFJ          0        0         0        1   \n",
       "2  INFJ          0        0         0        1   \n",
       "3  ENFJ          1        0         0        1   \n",
       "4  INTP          0        0         1        0   \n",
       "\n",
       "                                               posts  \n",
       "0  'When asked of the things you wish you did ear...  \n",
       "1  'I love both and they are equally important to...  \n",
       "2  Really? You think implying that everyone who i...  \n",
       "3  'Love is a crazy thing.   Se is our best form ...  \n",
       "4  'I am a physics undergrad with a computation e...  "
      ]
     },
     "execution_count": 17,
     "metadata": {},
     "output_type": "execute_result"
    }
   ],
   "source": [
    "personality_test = personality_test[[\"type\", \"Extrovert\", \"Sensing\", \"Thinking\", \"Judging\", \"posts\"]]\n",
    "personality_test.head()"
   ]
  },
  {
   "cell_type": "code",
   "execution_count": 18,
   "metadata": {},
   "outputs": [
    {
     "name": "stdout",
     "output_type": "stream",
     "text": [
      "Introvert Count is : 6609\n"
     ]
    }
   ],
   "source": [
    "icount = personality_test[\"Extrovert\"].value_counts()[0]\n",
    "print(f\"Introvert Count is : {icount}\")"
   ]
  },
  {
   "cell_type": "code",
   "execution_count": 19,
   "metadata": {},
   "outputs": [
    {
     "name": "stdout",
     "output_type": "stream",
     "text": [
      "Extrovert Count is: 1979\n"
     ]
    }
   ],
   "source": [
    "ecount = personality_test[\"Extrovert\"].value_counts()[1]\n",
    "print(f\"Extrovert Count is: {ecount}\")"
   ]
  },
  {
   "cell_type": "code",
   "execution_count": 20,
   "metadata": {},
   "outputs": [
    {
     "name": "stdout",
     "output_type": "stream",
     "text": [
      "Intuition Count is: 7403\n"
     ]
    }
   ],
   "source": [
    "incount = personality_test[\"Sensing\"].value_counts()[0]\n",
    "print(f\"Intuition Count is: {incount}\")"
   ]
  },
  {
   "cell_type": "code",
   "execution_count": 21,
   "metadata": {},
   "outputs": [
    {
     "name": "stdout",
     "output_type": "stream",
     "text": [
      "Sensing Count is: 1185\n"
     ]
    }
   ],
   "source": [
    "scount = personality_test[\"Sensing\"].value_counts()[1]\n",
    "print(f\"Sensing Count is: {scount}\")"
   ]
  },
  {
   "cell_type": "code",
   "execution_count": 22,
   "metadata": {},
   "outputs": [
    {
     "name": "stdout",
     "output_type": "stream",
     "text": [
      "Feeling Count is: 4646\n"
     ]
    }
   ],
   "source": [
    "fcount = personality_test[\"Thinking\"].value_counts()[0]\n",
    "print(f\"Feeling Count is: {fcount}\")"
   ]
  },
  {
   "cell_type": "code",
   "execution_count": 23,
   "metadata": {},
   "outputs": [
    {
     "name": "stdout",
     "output_type": "stream",
     "text": [
      "Thinking Count is: 3942\n"
     ]
    }
   ],
   "source": [
    "tcount = personality_test[\"Thinking\"].value_counts()[1]\n",
    "print(f\"Thinking Count is: {tcount}\")"
   ]
  },
  {
   "cell_type": "code",
   "execution_count": 24,
   "metadata": {},
   "outputs": [
    {
     "name": "stdout",
     "output_type": "stream",
     "text": [
      "Perceiving Count is: 5188\n"
     ]
    }
   ],
   "source": [
    "pcount = personality_test[\"Judging\"].value_counts()[0]\n",
    "print(f\"Perceiving Count is: {pcount}\")"
   ]
  },
  {
   "cell_type": "code",
   "execution_count": 25,
   "metadata": {},
   "outputs": [
    {
     "name": "stdout",
     "output_type": "stream",
     "text": [
      "Judging Count is: 3400\n"
     ]
    }
   ],
   "source": [
    "jcount = personality_test[\"Judging\"].value_counts()[1]\n",
    "print(f\"Judging Count is: {jcount}\")"
   ]
  },
  {
   "cell_type": "code",
   "execution_count": 26,
   "metadata": {},
   "outputs": [
    {
     "data": {
      "image/png": "[encoded data removed]",
      "text/plain": [
       "<Figure size 432x288 with 1 Axes>"
      ]
     },
     "metadata": {
      "needs_background": "light"
     },
     "output_type": "display_data"
    }
   ],
   "source": [
    "sns.countplot( x=\"variable\",hue=\"value\",data=pd.melt(personality_test[[\"Extrovert\", \"Sensing\", \"Thinking\", \"Judging\"]]),palette=[\"blue\", \"pink\"],)\n",
    "\n",
    "plt.show()"
   ]
  },
  {
   "cell_type": "code",
   "execution_count": 27,
   "metadata": {},
   "outputs": [],
   "source": [
    "import re"
   ]
  },
  {
   "cell_type": "code",
   "execution_count": 28,
   "metadata": {},
   "outputs": [],
   "source": [
    "personality_test[\"cleaned_posts\"] = personality_test[\"posts\"].str.lower()"
   ]
  },
  {
   "cell_type": "code",
   "execution_count": 29,
   "metadata": {},
   "outputs": [],
   "source": [
    "personality_test[\"cleaned_posts\"] = personality_test[\"cleaned_posts\"].str.replace( re.compile(r\"\\|\\|\\|\"), \" \")"
   ]
  },
  {
   "cell_type": "code",
   "execution_count": 30,
   "metadata": {},
   "outputs": [],
   "source": [
    "personality_test[\"cleaned_posts\"] = personality_test[\"cleaned_posts\"].str.replace(re.compile(r\"https?:\\/\\/(www)?.?([A-Za-z_0-9-]+)([\\S])*\"), \"\")"
   ]
  },
  {
   "cell_type": "code",
   "execution_count": 31,
   "metadata": {},
   "outputs": [],
   "source": [
    "personality_test[\"cleaned_posts\"] = personality_test[\"cleaned_posts\"].str.replace(re.compile(r\"\\S+@\\S+\"), \"\")"
   ]
  },
  {
   "cell_type": "code",
   "execution_count": 32,
   "metadata": {},
   "outputs": [],
   "source": [
    "personality_test[\"cleaned_posts\"] = personality_test[\"cleaned_posts\"].str.replace(re.compile(r\"[^a-z\\s]\"), \" \")"
   ]
  },
  {
   "cell_type": "code",
   "execution_count": 33,
   "metadata": {
    "scrolled": true
   },
   "outputs": [
    {
     "data": {
      "text/html": [
       "<div>\n",
       "<style scoped>\n",
       "    .dataframe tbody tr th:only-of-type {\n",
       "        vertical-align: middle;\n",
       "    }\n",
       "\n",
       "    .dataframe tbody tr th {\n",
       "        vertical-align: top;\n",
       "    }\n",
       "\n",
       "    .dataframe thead th {\n",
       "        text-align: right;\n",
       "    }\n",
       "</style>\n",
       "<table border=\"1\" class=\"dataframe\">\n",
       "  <thead>\n",
       "    <tr style=\"text-align: right;\">\n",
       "      <th></th>\n",
       "      <th>type</th>\n",
       "      <th>Extrovert</th>\n",
       "      <th>Sensing</th>\n",
       "      <th>Thinking</th>\n",
       "      <th>Judging</th>\n",
       "      <th>posts</th>\n",
       "      <th>cleaned_posts</th>\n",
       "    </tr>\n",
       "  </thead>\n",
       "  <tbody>\n",
       "    <tr>\n",
       "      <th>0</th>\n",
       "      <td>INFJ</td>\n",
       "      <td>0</td>\n",
       "      <td>0</td>\n",
       "      <td>0</td>\n",
       "      <td>1</td>\n",
       "      <td>'When asked of the things you wish you did ear...</td>\n",
       "      <td>when asked of the things you wish you did ear...</td>\n",
       "    </tr>\n",
       "    <tr>\n",
       "      <th>1</th>\n",
       "      <td>INFJ</td>\n",
       "      <td>0</td>\n",
       "      <td>0</td>\n",
       "      <td>0</td>\n",
       "      <td>1</td>\n",
       "      <td>'I love both and they are equally important to...</td>\n",
       "      <td>i love both and they are equally important to...</td>\n",
       "    </tr>\n",
       "    <tr>\n",
       "      <th>2</th>\n",
       "      <td>INFJ</td>\n",
       "      <td>0</td>\n",
       "      <td>0</td>\n",
       "      <td>0</td>\n",
       "      <td>1</td>\n",
       "      <td>Really? You think implying that everyone who i...</td>\n",
       "      <td>really  you think implying that everyone who i...</td>\n",
       "    </tr>\n",
       "    <tr>\n",
       "      <th>3</th>\n",
       "      <td>ENFJ</td>\n",
       "      <td>1</td>\n",
       "      <td>0</td>\n",
       "      <td>0</td>\n",
       "      <td>1</td>\n",
       "      <td>'Love is a crazy thing.   Se is our best form ...</td>\n",
       "      <td>love is a crazy thing    se is our best form ...</td>\n",
       "    </tr>\n",
       "    <tr>\n",
       "      <th>4</th>\n",
       "      <td>INTP</td>\n",
       "      <td>0</td>\n",
       "      <td>0</td>\n",
       "      <td>1</td>\n",
       "      <td>0</td>\n",
       "      <td>'I am a physics undergrad with a computation e...</td>\n",
       "      <td>i am a physics undergrad with a computation e...</td>\n",
       "    </tr>\n",
       "    <tr>\n",
       "      <th>5</th>\n",
       "      <td>INFP</td>\n",
       "      <td>0</td>\n",
       "      <td>0</td>\n",
       "      <td>0</td>\n",
       "      <td>0</td>\n",
       "      <td>'I have done many types of prepared humor, pla...</td>\n",
       "      <td>i have done many types of prepared humor  pla...</td>\n",
       "    </tr>\n",
       "    <tr>\n",
       "      <th>6</th>\n",
       "      <td>INTJ</td>\n",
       "      <td>0</td>\n",
       "      <td>0</td>\n",
       "      <td>1</td>\n",
       "      <td>1</td>\n",
       "      <td>'Try reading my post again.  You missed a grea...</td>\n",
       "      <td>try reading my post again   you missed a grea...</td>\n",
       "    </tr>\n",
       "    <tr>\n",
       "      <th>7</th>\n",
       "      <td>INFP</td>\n",
       "      <td>0</td>\n",
       "      <td>0</td>\n",
       "      <td>0</td>\n",
       "      <td>0</td>\n",
       "      <td>'I actually just don't like being INFP - make ...</td>\n",
       "      <td>i actually just don t like being infp   make ...</td>\n",
       "    </tr>\n",
       "    <tr>\n",
       "      <th>8</th>\n",
       "      <td>INFJ</td>\n",
       "      <td>0</td>\n",
       "      <td>0</td>\n",
       "      <td>0</td>\n",
       "      <td>1</td>\n",
       "      <td>'I'm a graphic designer. I currently work part...</td>\n",
       "      <td>i m a graphic designer  i currently work part...</td>\n",
       "    </tr>\n",
       "    <tr>\n",
       "      <th>9</th>\n",
       "      <td>INTJ</td>\n",
       "      <td>0</td>\n",
       "      <td>0</td>\n",
       "      <td>1</td>\n",
       "      <td>1</td>\n",
       "      <td>'ENSP:  I got a tattoo. Me: Where? ENSP: In Ci...</td>\n",
       "      <td>ensp   i got a tattoo  me  where  ensp  in ci...</td>\n",
       "    </tr>\n",
       "    <tr>\n",
       "      <th>10</th>\n",
       "      <td>INFJ</td>\n",
       "      <td>0</td>\n",
       "      <td>0</td>\n",
       "      <td>0</td>\n",
       "      <td>1</td>\n",
       "      <td>'Me: INFJ Mom: ISTJ Dad: ENFJ Sister: ISTJ|||I...</td>\n",
       "      <td>me  infj mom  istj dad  enfj sister  istj i r...</td>\n",
       "    </tr>\n",
       "    <tr>\n",
       "      <th>11</th>\n",
       "      <td>INFP</td>\n",
       "      <td>0</td>\n",
       "      <td>0</td>\n",
       "      <td>0</td>\n",
       "      <td>0</td>\n",
       "      <td>'You've gotta be starving, you've gotta be sta...</td>\n",
       "      <td>you ve gotta be starving  you ve gotta be sta...</td>\n",
       "    </tr>\n",
       "    <tr>\n",
       "      <th>12</th>\n",
       "      <td>INTP</td>\n",
       "      <td>0</td>\n",
       "      <td>0</td>\n",
       "      <td>1</td>\n",
       "      <td>0</td>\n",
       "      <td>'Thanks for the great suggestions. I will defi...</td>\n",
       "      <td>thanks for the great suggestions  i will defi...</td>\n",
       "    </tr>\n",
       "    <tr>\n",
       "      <th>13</th>\n",
       "      <td>ENTP</td>\n",
       "      <td>1</td>\n",
       "      <td>0</td>\n",
       "      <td>1</td>\n",
       "      <td>0</td>\n",
       "      <td>'Oh yes, it's so fantastically true it's wonde...</td>\n",
       "      <td>oh yes  it s so fantastically true it s wonde...</td>\n",
       "    </tr>\n",
       "    <tr>\n",
       "      <th>14</th>\n",
       "      <td>INTJ</td>\n",
       "      <td>0</td>\n",
       "      <td>0</td>\n",
       "      <td>1</td>\n",
       "      <td>1</td>\n",
       "      <td>'It's a long story. No it isn't.  You just don...</td>\n",
       "      <td>it s a long story  no it isn t   you just don...</td>\n",
       "    </tr>\n",
       "    <tr>\n",
       "      <th>15</th>\n",
       "      <td>INTP</td>\n",
       "      <td>0</td>\n",
       "      <td>0</td>\n",
       "      <td>1</td>\n",
       "      <td>0</td>\n",
       "      <td>'Banned for swearing in your signature!|||The ...</td>\n",
       "      <td>banned for swearing in your signature  the zo...</td>\n",
       "    </tr>\n",
       "    <tr>\n",
       "      <th>16</th>\n",
       "      <td>INFJ</td>\n",
       "      <td>0</td>\n",
       "      <td>0</td>\n",
       "      <td>0</td>\n",
       "      <td>1</td>\n",
       "      <td>'a lot of mistyped infps.|||and your a enfj......</td>\n",
       "      <td>a lot of mistyped infps  and your a enfj     ...</td>\n",
       "    </tr>\n",
       "    <tr>\n",
       "      <th>17</th>\n",
       "      <td>INFJ</td>\n",
       "      <td>0</td>\n",
       "      <td>0</td>\n",
       "      <td>0</td>\n",
       "      <td>1</td>\n",
       "      <td>'Well, I think I can answer this question. I t...</td>\n",
       "      <td>well  i think i can answer this question  i t...</td>\n",
       "    </tr>\n",
       "    <tr>\n",
       "      <th>18</th>\n",
       "      <td>INFJ</td>\n",
       "      <td>0</td>\n",
       "      <td>0</td>\n",
       "      <td>0</td>\n",
       "      <td>1</td>\n",
       "      <td>'intp, i bet.  cryptonia, sometimes it's helpf...</td>\n",
       "      <td>intp  i bet   cryptonia  sometimes it s helpf...</td>\n",
       "    </tr>\n",
       "    <tr>\n",
       "      <th>19</th>\n",
       "      <td>ISTP</td>\n",
       "      <td>0</td>\n",
       "      <td>1</td>\n",
       "      <td>1</td>\n",
       "      <td>0</td>\n",
       "      <td>'For me, its knowing that I'm good at a lot of...</td>\n",
       "      <td>for me  its knowing that i m good at a lot of...</td>\n",
       "    </tr>\n",
       "    <tr>\n",
       "      <th>20</th>\n",
       "      <td>ENFP</td>\n",
       "      <td>1</td>\n",
       "      <td>0</td>\n",
       "      <td>0</td>\n",
       "      <td>0</td>\n",
       "      <td>'Ok, I have reached a point in my life where I...</td>\n",
       "      <td>ok  i have reached a point in my life where i...</td>\n",
       "    </tr>\n",
       "    <tr>\n",
       "      <th>21</th>\n",
       "      <td>ENFP</td>\n",
       "      <td>1</td>\n",
       "      <td>0</td>\n",
       "      <td>0</td>\n",
       "      <td>0</td>\n",
       "      <td>'Hi Lucy, nice to hear from you. Thank you for...</td>\n",
       "      <td>hi lucy  nice to hear from you  thank you for...</td>\n",
       "    </tr>\n",
       "    <tr>\n",
       "      <th>22</th>\n",
       "      <td>INFJ</td>\n",
       "      <td>0</td>\n",
       "      <td>0</td>\n",
       "      <td>0</td>\n",
       "      <td>1</td>\n",
       "      <td>'Any thoughts/insights on an INFJ - INTP pairi...</td>\n",
       "      <td>any thoughts insights on an infj   intp pairi...</td>\n",
       "    </tr>\n",
       "    <tr>\n",
       "      <th>23</th>\n",
       "      <td>INFJ</td>\n",
       "      <td>0</td>\n",
       "      <td>0</td>\n",
       "      <td>0</td>\n",
       "      <td>1</td>\n",
       "      <td>'I'm okay with certain accents. I can usually ...</td>\n",
       "      <td>i m okay with certain accents  i can usually ...</td>\n",
       "    </tr>\n",
       "    <tr>\n",
       "      <th>24</th>\n",
       "      <td>INFP</td>\n",
       "      <td>0</td>\n",
       "      <td>0</td>\n",
       "      <td>0</td>\n",
       "      <td>0</td>\n",
       "      <td>'All the time. :) I love rocking out to music,...</td>\n",
       "      <td>all the time     i love rocking out to music ...</td>\n",
       "    </tr>\n",
       "    <tr>\n",
       "      <th>25</th>\n",
       "      <td>INFP</td>\n",
       "      <td>0</td>\n",
       "      <td>0</td>\n",
       "      <td>0</td>\n",
       "      <td>0</td>\n",
       "      <td>'of course :laughing: yea if you stick around ...</td>\n",
       "      <td>of course  laughing  yea if you stick around ...</td>\n",
       "    </tr>\n",
       "    <tr>\n",
       "      <th>26</th>\n",
       "      <td>INTJ</td>\n",
       "      <td>0</td>\n",
       "      <td>0</td>\n",
       "      <td>1</td>\n",
       "      <td>1</td>\n",
       "      <td>So on a slightly lighter note|||I'm curious wh...</td>\n",
       "      <td>so on a slightly lighter note i m curious what...</td>\n",
       "    </tr>\n",
       "    <tr>\n",
       "      <th>27</th>\n",
       "      <td>INFP</td>\n",
       "      <td>0</td>\n",
       "      <td>0</td>\n",
       "      <td>0</td>\n",
       "      <td>0</td>\n",
       "      <td>'I think I would just watch the fight and care...</td>\n",
       "      <td>i think i would just watch the fight and care...</td>\n",
       "    </tr>\n",
       "    <tr>\n",
       "      <th>28</th>\n",
       "      <td>INFJ</td>\n",
       "      <td>0</td>\n",
       "      <td>0</td>\n",
       "      <td>0</td>\n",
       "      <td>1</td>\n",
       "      <td>'While I don't particularly like lying, I am p...</td>\n",
       "      <td>while i don t particularly like lying  i am p...</td>\n",
       "    </tr>\n",
       "    <tr>\n",
       "      <th>29</th>\n",
       "      <td>INFJ</td>\n",
       "      <td>0</td>\n",
       "      <td>0</td>\n",
       "      <td>0</td>\n",
       "      <td>1</td>\n",
       "      <td>'Depends if they got it from banging 275843 pe...</td>\n",
       "      <td>depends if they got it from banging        pe...</td>\n",
       "    </tr>\n",
       "  </tbody>\n",
       "</table>\n",
       "</div>"
      ],
      "text/plain": [
       "    type  Extrovert  Sensing  Thinking  Judging  \\\n",
       "0   INFJ          0        0         0        1   \n",
       "1   INFJ          0        0         0        1   \n",
       "2   INFJ          0        0         0        1   \n",
       "3   ENFJ          1        0         0        1   \n",
       "4   INTP          0        0         1        0   \n",
       "5   INFP          0        0         0        0   \n",
       "6   INTJ          0        0         1        1   \n",
       "7   INFP          0        0         0        0   \n",
       "8   INFJ          0        0         0        1   \n",
       "9   INTJ          0        0         1        1   \n",
       "10  INFJ          0        0         0        1   \n",
       "11  INFP          0        0         0        0   \n",
       "12  INTP          0        0         1        0   \n",
       "13  ENTP          1        0         1        0   \n",
       "14  INTJ          0        0         1        1   \n",
       "15  INTP          0        0         1        0   \n",
       "16  INFJ          0        0         0        1   \n",
       "17  INFJ          0        0         0        1   \n",
       "18  INFJ          0        0         0        1   \n",
       "19  ISTP          0        1         1        0   \n",
       "20  ENFP          1        0         0        0   \n",
       "21  ENFP          1        0         0        0   \n",
       "22  INFJ          0        0         0        1   \n",
       "23  INFJ          0        0         0        1   \n",
       "24  INFP          0        0         0        0   \n",
       "25  INFP          0        0         0        0   \n",
       "26  INTJ          0        0         1        1   \n",
       "27  INFP          0        0         0        0   \n",
       "28  INFJ          0        0         0        1   \n",
       "29  INFJ          0        0         0        1   \n",
       "\n",
       "                                                posts  \\\n",
       "0   'When asked of the things you wish you did ear...   \n",
       "1   'I love both and they are equally important to...   \n",
       "2   Really? You think implying that everyone who i...   \n",
       "3   'Love is a crazy thing.   Se is our best form ...   \n",
       "4   'I am a physics undergrad with a computation e...   \n",
       "5   'I have done many types of prepared humor, pla...   \n",
       "6   'Try reading my post again.  You missed a grea...   \n",
       "7   'I actually just don't like being INFP - make ...   \n",
       "8   'I'm a graphic designer. I currently work part...   \n",
       "9   'ENSP:  I got a tattoo. Me: Where? ENSP: In Ci...   \n",
       "10  'Me: INFJ Mom: ISTJ Dad: ENFJ Sister: ISTJ|||I...   \n",
       "11  'You've gotta be starving, you've gotta be sta...   \n",
       "12  'Thanks for the great suggestions. I will defi...   \n",
       "13  'Oh yes, it's so fantastically true it's wonde...   \n",
       "14  'It's a long story. No it isn't.  You just don...   \n",
       "15  'Banned for swearing in your signature!|||The ...   \n",
       "16  'a lot of mistyped infps.|||and your a enfj......   \n",
       "17  'Well, I think I can answer this question. I t...   \n",
       "18  'intp, i bet.  cryptonia, sometimes it's helpf...   \n",
       "19  'For me, its knowing that I'm good at a lot of...   \n",
       "20  'Ok, I have reached a point in my life where I...   \n",
       "21  'Hi Lucy, nice to hear from you. Thank you for...   \n",
       "22  'Any thoughts/insights on an INFJ - INTP pairi...   \n",
       "23  'I'm okay with certain accents. I can usually ...   \n",
       "24  'All the time. :) I love rocking out to music,...   \n",
       "25  'of course :laughing: yea if you stick around ...   \n",
       "26  So on a slightly lighter note|||I'm curious wh...   \n",
       "27  'I think I would just watch the fight and care...   \n",
       "28  'While I don't particularly like lying, I am p...   \n",
       "29  'Depends if they got it from banging 275843 pe...   \n",
       "\n",
       "                                        cleaned_posts  \n",
       "0    when asked of the things you wish you did ear...  \n",
       "1    i love both and they are equally important to...  \n",
       "2   really  you think implying that everyone who i...  \n",
       "3    love is a crazy thing    se is our best form ...  \n",
       "4    i am a physics undergrad with a computation e...  \n",
       "5    i have done many types of prepared humor  pla...  \n",
       "6    try reading my post again   you missed a grea...  \n",
       "7    i actually just don t like being infp   make ...  \n",
       "8    i m a graphic designer  i currently work part...  \n",
       "9    ensp   i got a tattoo  me  where  ensp  in ci...  \n",
       "10   me  infj mom  istj dad  enfj sister  istj i r...  \n",
       "11   you ve gotta be starving  you ve gotta be sta...  \n",
       "12   thanks for the great suggestions  i will defi...  \n",
       "13   oh yes  it s so fantastically true it s wonde...  \n",
       "14   it s a long story  no it isn t   you just don...  \n",
       "15   banned for swearing in your signature  the zo...  \n",
       "16   a lot of mistyped infps  and your a enfj     ...  \n",
       "17   well  i think i can answer this question  i t...  \n",
       "18   intp  i bet   cryptonia  sometimes it s helpf...  \n",
       "19   for me  its knowing that i m good at a lot of...  \n",
       "20   ok  i have reached a point in my life where i...  \n",
       "21   hi lucy  nice to hear from you  thank you for...  \n",
       "22   any thoughts insights on an infj   intp pairi...  \n",
       "23   i m okay with certain accents  i can usually ...  \n",
       "24   all the time     i love rocking out to music ...  \n",
       "25   of course  laughing  yea if you stick around ...  \n",
       "26  so on a slightly lighter note i m curious what...  \n",
       "27   i think i would just watch the fight and care...  \n",
       "28   while i don t particularly like lying  i am p...  \n",
       "29   depends if they got it from banging        pe...  "
      ]
     },
     "execution_count": 33,
     "metadata": {},
     "output_type": "execute_result"
    }
   ],
   "source": [
    "personality_test.head(30)"
   ]
  },
  {
   "cell_type": "code",
   "execution_count": 34,
   "metadata": {},
   "outputs": [
    {
     "name": "stdout",
     "output_type": "stream",
     "text": [
      "showing info https://raw.githubusercontent.com/nltk/nltk_data/gh-pages/index.xml\n"
     ]
    },
    {
     "data": {
      "text/plain": [
       "True"
      ]
     },
     "execution_count": 34,
     "metadata": {},
     "output_type": "execute_result"
    }
   ],
   "source": [
    "import nltk\n",
    "nltk.download()\n"
   ]
  },
  {
   "cell_type": "code",
   "execution_count": 35,
   "metadata": {},
   "outputs": [
    {
     "name": "stderr",
     "output_type": "stream",
     "text": [
      "[nltk_data] Downloading package stopwords to C:\\Users\\MAITHRI\n",
      "[nltk_data]     SURESH\\AppData\\Roaming\\nltk_data...\n",
      "[nltk_data]   Package stopwords is already up-to-date!\n"
     ]
    },
    {
     "data": {
      "text/plain": [
       "True"
      ]
     },
     "execution_count": 35,
     "metadata": {},
     "output_type": "execute_result"
    }
   ],
   "source": [
    "import nltk\n",
    "nltk.download(\"stopwords\")"
   ]
  },
  {
   "cell_type": "code",
   "execution_count": 36,
   "metadata": {},
   "outputs": [],
   "source": [
    "from nltk.corpus import stopwords"
   ]
  },
  {
   "cell_type": "code",
   "execution_count": 37,
   "metadata": {},
   "outputs": [],
   "source": [
    "from nltk.stem import WordNetLemmatizer"
   ]
  },
  {
   "cell_type": "code",
   "execution_count": 38,
   "metadata": {},
   "outputs": [],
   "source": [
    "lemmatizer = WordNetLemmatizer()\n",
    "\n",
    "personality_test[\"cleaned_posts\"] = personality_test[\"cleaned_posts\"].apply(\n",
    "    lambda x: \" \".join(\n",
    "        [\n",
    "            lemmatizer.lemmatize(word)\n",
    "            for word in x.split(\" \")\n",
    "            if word not in stopwords.words(\"english\")\n",
    "        ]\n",
    "    )\n",
    ")\n",
    "\n"
   ]
  },
  {
   "cell_type": "code",
   "execution_count": 39,
   "metadata": {},
   "outputs": [],
   "source": [
    "personality_test[\"cleaned_posts\"] = personality_test[\"cleaned_posts\"].str.replace(re.compile(r\"\\b\\w{1,2}\\b\"), \"\")"
   ]
  },
  {
   "cell_type": "code",
   "execution_count": 40,
   "metadata": {},
   "outputs": [
    {
     "data": {
      "text/html": [
       "<div>\n",
       "<style scoped>\n",
       "    .dataframe tbody tr th:only-of-type {\n",
       "        vertical-align: middle;\n",
       "    }\n",
       "\n",
       "    .dataframe tbody tr th {\n",
       "        vertical-align: top;\n",
       "    }\n",
       "\n",
       "    .dataframe thead th {\n",
       "        text-align: right;\n",
       "    }\n",
       "</style>\n",
       "<table border=\"1\" class=\"dataframe\">\n",
       "  <thead>\n",
       "    <tr style=\"text-align: right;\">\n",
       "      <th></th>\n",
       "      <th>type</th>\n",
       "      <th>Extrovert</th>\n",
       "      <th>Sensing</th>\n",
       "      <th>Thinking</th>\n",
       "      <th>Judging</th>\n",
       "      <th>posts</th>\n",
       "      <th>cleaned_posts</th>\n",
       "    </tr>\n",
       "  </thead>\n",
       "  <tbody>\n",
       "    <tr>\n",
       "      <th>0</th>\n",
       "      <td>INFJ</td>\n",
       "      <td>0</td>\n",
       "      <td>0</td>\n",
       "      <td>0</td>\n",
       "      <td>1</td>\n",
       "      <td>'When asked of the things you wish you did ear...</td>\n",
       "      <td>asked thing wish earlier       find answering...</td>\n",
       "    </tr>\n",
       "    <tr>\n",
       "      <th>1</th>\n",
       "      <td>INFJ</td>\n",
       "      <td>0</td>\n",
       "      <td>0</td>\n",
       "      <td>0</td>\n",
       "      <td>1</td>\n",
       "      <td>'I love both and they are equally important to...</td>\n",
       "      <td>love equally important  music window soul  in...</td>\n",
       "    </tr>\n",
       "    <tr>\n",
       "      <th>2</th>\n",
       "      <td>INFJ</td>\n",
       "      <td>0</td>\n",
       "      <td>0</td>\n",
       "      <td>0</td>\n",
       "      <td>1</td>\n",
       "      <td>Really? You think implying that everyone who i...</td>\n",
       "      <td>really  think implying everyone entrepreneur s...</td>\n",
       "    </tr>\n",
       "    <tr>\n",
       "      <th>3</th>\n",
       "      <td>ENFJ</td>\n",
       "      <td>1</td>\n",
       "      <td>0</td>\n",
       "      <td>0</td>\n",
       "      <td>1</td>\n",
       "      <td>'Love is a crazy thing.   Se is our best form ...</td>\n",
       "      <td>love crazy thing     best form communication ...</td>\n",
       "    </tr>\n",
       "    <tr>\n",
       "      <th>4</th>\n",
       "      <td>INTP</td>\n",
       "      <td>0</td>\n",
       "      <td>0</td>\n",
       "      <td>1</td>\n",
       "      <td>0</td>\n",
       "      <td>'I am a physics undergrad with a computation e...</td>\n",
       "      <td>physic undergrad computation emphasis  learni...</td>\n",
       "    </tr>\n",
       "  </tbody>\n",
       "</table>\n",
       "</div>"
      ],
      "text/plain": [
       "   type  Extrovert  Sensing  Thinking  Judging  \\\n",
       "0  INFJ          0        0         0        1   \n",
       "1  INFJ          0        0         0        1   \n",
       "2  INFJ          0        0         0        1   \n",
       "3  ENFJ          1        0         0        1   \n",
       "4  INTP          0        0         1        0   \n",
       "\n",
       "                                               posts  \\\n",
       "0  'When asked of the things you wish you did ear...   \n",
       "1  'I love both and they are equally important to...   \n",
       "2  Really? You think implying that everyone who i...   \n",
       "3  'Love is a crazy thing.   Se is our best form ...   \n",
       "4  'I am a physics undergrad with a computation e...   \n",
       "\n",
       "                                       cleaned_posts  \n",
       "0   asked thing wish earlier       find answering...  \n",
       "1   love equally important  music window soul  in...  \n",
       "2  really  think implying everyone entrepreneur s...  \n",
       "3   love crazy thing     best form communication ...  \n",
       "4   physic undergrad computation emphasis  learni...  "
      ]
     },
     "execution_count": 40,
     "metadata": {},
     "output_type": "execute_result"
    }
   ],
   "source": [
    "personality_test.head()"
   ]
  },
  {
   "cell_type": "code",
   "execution_count": 41,
   "metadata": {},
   "outputs": [],
   "source": [
    "personality_test.to_csv(\"cleaned_data.csv\", index=False)"
   ]
  },
  {
   "cell_type": "code",
   "execution_count": null,
   "metadata": {},
   "outputs": [],
   "source": []
  },
  {
   "cell_type": "code",
   "execution_count": null,
   "metadata": {},
   "outputs": [],
   "source": []
  }
 ],
 "metadata": {
  "kernelspec": {
   "display_name": "Python 3",
   "language": "python",
   "name": "python3"
  },
  "language_info": {
   "codemirror_mode": {
    "name": "ipython",
    "version": 3
   },
   "file_extension": ".py",
   "mimetype": "text/x-python",
   "name": "python",
   "nbconvert_exporter": "python",
   "pygments_lexer": "ipython3",
   "version": "3.7.6"
  }
 },
 "nbformat": 4,
 "nbformat_minor": 4
}
